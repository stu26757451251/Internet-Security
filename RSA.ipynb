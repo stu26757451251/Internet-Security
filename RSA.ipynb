{
 "cells": [
  {
   "cell_type": "code",
   "execution_count": 28,
   "metadata": {
    "scrolled": false
   },
   "outputs": [
    {
     "name": "stdout",
     "output_type": "stream",
     "text": [
      "請輸入兩個質數\n",
      "11 17\n",
      "請問是否要亂數產生金鑰?(1:yes,0:no)\n",
      "1\n",
      "金鑰為 :  111\n",
      "請輸入明文\n",
      "88\n"
     ]
    }
   ],
   "source": [
    "# User input \n",
    "\n",
    "import random\n",
    "\n",
    "# for two primes\n",
    "print(\"請輸入兩個質數\")\n",
    "p,q = map(int, input().split())\n",
    "while( primeTest(p) == False or primeTest(q) == False):\n",
    "    print(\"請確認輸入之數字為質數,請重新輸入\")\n",
    "    p,q = map(int, input().split())\n",
    "\n",
    "fi = (p-1)*(q-1)\n",
    "n = p*q\n",
    "    \n",
    "print(\"請問是否要亂數產生金鑰?(1:yes,0:no)\")\n",
    "function = int(input())\n",
    "if(function == 0):\n",
    "    \n",
    "    # for the key . e\n",
    "    print(\"請輸入金鑰\")\n",
    "    e = int(input())\n",
    "    while( keyTest(e,fi) == False):\n",
    "        print(\"請重新輸入\")\n",
    "        e = int(input())    \n",
    "\n",
    "elif(function == 1):\n",
    "    \n",
    "    e = random.randint(2,fi-1)\n",
    "    while( coprime(e,fi) == False):\n",
    "        e = random.randint(2,fi-1)\n",
    "    print(\"金鑰為 : \",e)\n",
    "\n",
    "    \n",
    "# for the message M\n",
    "print(\"請輸入明文\")\n",
    "m = int(input())\n",
    "while(m > n):\n",
    "    print(\"明文必須小於 p*q , 請重新輸入\")\n",
    "    m = int(input())"
   ]
  },
  {
   "cell_type": "code",
   "execution_count": 29,
   "metadata": {},
   "outputs": [
    {
     "name": "stdout",
     "output_type": "stream",
     "text": [
      "加密 : \n",
      "計算  88 ^ 111  mod  187\n",
      "decryption key :  111\n",
      "ciphertext :  176\n",
      "解密 : \n",
      "計算  176 ^ 111  mod  187\n",
      "plaintext :  88\n"
     ]
    }
   ],
   "source": [
    "# 加解密過程\n",
    "\n",
    "print(\"加密 : \")\n",
    "d = decryptionKey(e,n,fi)   # decryption key\n",
    "cipher = encrypt(e,n,m)     # ciphertext according to the given p,q,e,Message\n",
    "print(\"decryption key : \",d)\n",
    "print(\"ciphertext : \",cipher)\n",
    "\n",
    "print(\"解密 : \")\n",
    "plaintext = decrypt(d,n,cipher)\n",
    "print(\"plaintext : \",plaintext)"
   ]
  },
  {
   "cell_type": "code",
   "execution_count": 18,
   "metadata": {},
   "outputs": [],
   "source": [
    "def decryptionKey(e,n,fi):\n",
    "    for i in range(0,n+1):\n",
    "        if((e*i) % fi == 1):\n",
    "            return i"
   ]
  },
  {
   "cell_type": "code",
   "execution_count": 19,
   "metadata": {},
   "outputs": [],
   "source": [
    "def encrypt(e,n,m):\n",
    "    print(\"計算 \",m, \"^\",e, \" mod \",n)\n",
    "    cipher = pow(m,e) % n\n",
    "    return cipher"
   ]
  },
  {
   "cell_type": "code",
   "execution_count": 24,
   "metadata": {},
   "outputs": [],
   "source": [
    "def decrypt(d,n,c):\n",
    "    print(\"計算 \",c,\"^\",d,\" mod \",n)\n",
    "    plaintext = pow(c,d) % n\n",
    "    return plaintext"
   ]
  },
  {
   "cell_type": "code",
   "execution_count": 21,
   "metadata": {},
   "outputs": [],
   "source": [
    "def primeTest(num):\n",
    "    if(num > 1):\n",
    "        \n",
    "        for i in range(2,num):\n",
    "            if(num%i == 0) :\n",
    "                print(i)\n",
    "                return False\n",
    "        return True\n",
    "    else:\n",
    "        return False"
   ]
  },
  {
   "cell_type": "code",
   "execution_count": 22,
   "metadata": {},
   "outputs": [],
   "source": [
    "def keyTest(key,fi):\n",
    "\n",
    "    if(e<=1 or e>=fi):\n",
    "        print(\"金鑰範圍錯誤\")\n",
    "        return False\n",
    "    elif(coprime(key,fi) == False):\n",
    "        print(\"金鑰和(p-1)(q-1)不互質\")\n",
    "        return False\n",
    "    else:\n",
    "        return True"
   ]
  },
  {
   "cell_type": "code",
   "execution_count": 23,
   "metadata": {},
   "outputs": [],
   "source": [
    "def coprime(p,q):\n",
    "    \n",
    "    temp = 0\n",
    "    while(q!=0):\n",
    "        temp = q\n",
    "        q = p%q\n",
    "        p = temp\n",
    "    if(p==1):\n",
    "        return True\n",
    "    else:\n",
    "        return False"
   ]
  },
  {
   "cell_type": "code",
   "execution_count": null,
   "metadata": {},
   "outputs": [],
   "source": []
  }
 ],
 "metadata": {
  "kernelspec": {
   "display_name": "Python 3",
   "language": "python",
   "name": "python3"
  },
  "language_info": {
   "codemirror_mode": {
    "name": "ipython",
    "version": 3
   },
   "file_extension": ".py",
   "mimetype": "text/x-python",
   "name": "python",
   "nbconvert_exporter": "python",
   "pygments_lexer": "ipython3",
   "version": "3.6.5"
  }
 },
 "nbformat": 4,
 "nbformat_minor": 2
}
